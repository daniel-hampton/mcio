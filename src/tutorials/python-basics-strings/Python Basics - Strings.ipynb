{
 "cells": [
  {
   "cell_type": "markdown",
   "metadata": {},
   "source": [
    "# Python Basics - Strings\n",
    "\n",
    "Harness the power of words in Python by manipulating text, also known as\n",
    "`strings`. "
   ]
  },
  {
   "cell_type": "markdown",
   "metadata": {},
   "source": [
    "## What Are Strings?\n",
    "In programming, strings are essentially the text data your code operates on or uses. This terminology differentiates it from the code itself, or comments in your code, which technically are all in a text document anyway.\n",
    "\n",
    "In Python you can write strings with either double quotes `\" \"` or single quotes `' '`. Like other data it can be stored in variables."
   ]
  },
  {
   "cell_type": "code",
   "execution_count": 1,
   "metadata": {},
   "outputs": [],
   "source": [
    "x = \"This is a string\""
   ]
  },
  {
   "cell_type": "code",
   "execution_count": 2,
   "metadata": {},
   "outputs": [],
   "source": [
    "y = 'This is also a valid string'"
   ]
  },
  {
   "cell_type": "markdown",
   "metadata": {},
   "source": [
    "If you remember the `type()` function from before you can check the type of these variables."
   ]
  },
  {
   "cell_type": "code",
   "execution_count": 3,
   "metadata": {},
   "outputs": [
    {
     "data": {
      "text/plain": [
       "str"
      ]
     },
     "execution_count": 3,
     "metadata": {},
     "output_type": "execute_result"
    }
   ],
   "source": [
    "type(x)"
   ]
  },
  {
   "cell_type": "markdown",
   "metadata": {},
   "source": [
    "`str` is what Python calls the string type.\n",
    "\n",
    "You can convert numerical data such as integers and floats into strings by using `str()`."
   ]
  },
  {
   "cell_type": "code",
   "execution_count": 4,
   "metadata": {},
   "outputs": [
    {
     "data": {
      "text/plain": [
       "int"
      ]
     },
     "execution_count": 4,
     "metadata": {},
     "output_type": "execute_result"
    }
   ],
   "source": [
    "x = 42\n",
    "type(x)"
   ]
  },
  {
   "cell_type": "code",
   "execution_count": 5,
   "metadata": {},
   "outputs": [
    {
     "data": {
      "text/plain": [
       "42"
      ]
     },
     "execution_count": 5,
     "metadata": {},
     "output_type": "execute_result"
    }
   ],
   "source": [
    "x"
   ]
  },
  {
   "cell_type": "code",
   "execution_count": 6,
   "metadata": {},
   "outputs": [
    {
     "data": {
      "text/plain": [
       "str"
      ]
     },
     "execution_count": 6,
     "metadata": {},
     "output_type": "execute_result"
    }
   ],
   "source": [
    "x = str(42)\n",
    "type(x)"
   ]
  },
  {
   "cell_type": "code",
   "execution_count": 7,
   "metadata": {},
   "outputs": [
    {
     "data": {
      "text/plain": [
       "'42'"
      ]
     },
     "execution_count": 7,
     "metadata": {},
     "output_type": "execute_result"
    }
   ],
   "source": [
    "x"
   ]
  },
  {
   "cell_type": "markdown",
   "metadata": {},
   "source": [
    "Notice the quotes around the number 42 in that last output. This is because the value of `x` is now a string."
   ]
  },
  {
   "cell_type": "markdown",
   "metadata": {},
   "source": [
    "## Introducing the Print Function\n",
    "\n",
    "Up to this point we have been viewing the values of variables and output of our code by typing either the variable or expression on it's own line in the Jupyter Notebook or ipython terminal. You wouldn't normally do this in programs you write so let's introduce a way to directly tell Python to print some text. The built-in `print()` function will do this for us."
   ]
  },
  {
   "cell_type": "code",
   "execution_count": 8,
   "metadata": {},
   "outputs": [
    {
     "name": "stdout",
     "output_type": "stream",
     "text": [
      "My custom string\n"
     ]
    }
   ],
   "source": [
    "print(\"My custom string\")"
   ]
  },
  {
   "cell_type": "code",
   "execution_count": 9,
   "metadata": {},
   "outputs": [
    {
     "name": "stdout",
     "output_type": "stream",
     "text": [
      "42\n"
     ]
    }
   ],
   "source": [
    "print(x)"
   ]
  },
  {
   "cell_type": "markdown",
   "metadata": {},
   "source": [
    "`print(your_expression)` will print the string representation of the expression to the terminal. Note that `x` is still a string, since `print` always outputs a string, `x` doesn't have the quotes around it like before."
   ]
  },
  {
   "cell_type": "markdown",
   "metadata": {},
   "source": [
    "Adding `print` statements to your code is useful if you want to see the values of variables at different steps."
   ]
  },
  {
   "cell_type": "code",
   "execution_count": 10,
   "metadata": {},
   "outputs": [],
   "source": [
    "def my_function():\n",
    "    \"\"\"Example function that doesn't return anything but prints to the terminal\"\"\"\n",
    "    x = 42\n",
    "    print(x)\n",
    "    x = x *2\n",
    "    print(x)"
   ]
  },
  {
   "cell_type": "code",
   "execution_count": 11,
   "metadata": {},
   "outputs": [
    {
     "name": "stdout",
     "output_type": "stream",
     "text": [
      "42\n",
      "84\n"
     ]
    }
   ],
   "source": [
    "my_function()"
   ]
  },
  {
   "cell_type": "markdown",
   "metadata": {},
   "source": [
    "We see that by calling `my_function()` the print statement outputs the value of `x` at the point in time print was called."
   ]
  },
  {
   "cell_type": "markdown",
   "metadata": {},
   "source": [
    "## Escape Characters\n",
    "Since quotes (either single or double) are special characters used to declare the start and end of a string in your code, you can't use them directly in your strings without the use of a special **escape** character. The `\\`.\n",
    "\n",
    "For instance, this won't work:"
   ]
  },
  {
   "cell_type": "code",
   "execution_count": 12,
   "metadata": {},
   "outputs": [
    {
     "ename": "SyntaxError",
     "evalue": "invalid syntax (<ipython-input-12-a83c1453fe18>, line 1)",
     "output_type": "error",
     "traceback": [
      "\u001b[0;36m  File \u001b[0;32m\"<ipython-input-12-a83c1453fe18>\"\u001b[0;36m, line \u001b[0;32m1\u001b[0m\n\u001b[0;31m    print(\"Everyone loves \"air quotes\"!\")\u001b[0m\n\u001b[0m                             ^\u001b[0m\n\u001b[0;31mSyntaxError\u001b[0m\u001b[0;31m:\u001b[0m invalid syntax\n"
     ]
    }
   ],
   "source": [
    "print(\"Everyone loves \"air quotes\"!\")"
   ]
  },
  {
   "cell_type": "markdown",
   "metadata": {},
   "source": [
    "You need to escape the inside quotes you want to use in the value of your string."
   ]
  },
  {
   "cell_type": "code",
   "execution_count": 15,
   "metadata": {},
   "outputs": [
    {
     "name": "stdout",
     "output_type": "stream",
     "text": [
      "Everyone loves \"air quotes\"!\n"
     ]
    }
   ],
   "source": [
    "print(\"Everyone loves \\\"air quotes\\\"!\")"
   ]
  },
  {
   "cell_type": "markdown",
   "metadata": {},
   "source": [
    "If you declare the string with double quotes, you can use single quotes inside without escaping, and vice versa."
   ]
  },
  {
   "cell_type": "code",
   "execution_count": 16,
   "metadata": {},
   "outputs": [
    {
     "name": "stdout",
     "output_type": "stream",
     "text": [
      "Everyone loves 'air quotes'!\n"
     ]
    }
   ],
   "source": [
    "print(\"Everyone loves 'air quotes'!\")"
   ]
  },
  {
   "cell_type": "markdown",
   "metadata": {},
   "source": [
    "This means delcaring strings with double quotes makes using apostrophies `'` a little easier."
   ]
  },
  {
   "cell_type": "code",
   "execution_count": 17,
   "metadata": {},
   "outputs": [
    {
     "name": "stdout",
     "output_type": "stream",
     "text": [
      "I'm awesome 'cause reasons.\n"
     ]
    }
   ],
   "source": [
    "print(\"I'm awesome 'cause reasons.\")"
   ]
  },
  {
   "cell_type": "markdown",
   "metadata": {},
   "source": [
    "If you use single quotes, you have to escape the apostrophes."
   ]
  },
  {
   "cell_type": "code",
   "execution_count": 18,
   "metadata": {},
   "outputs": [
    {
     "name": "stdout",
     "output_type": "stream",
     "text": [
      "I'm awesome 'cause reasons.\n"
     ]
    }
   ],
   "source": [
    "print('I\\'m awesome \\'cause reasons.')"
   ]
  },
  {
   "cell_type": "markdown",
   "metadata": {},
   "source": [
    "Another commons use of the escape character is to create strings that have text on multiple lines. `\\n` is the newline character."
   ]
  },
  {
   "cell_type": "code",
   "execution_count": 19,
   "metadata": {},
   "outputs": [
    {
     "name": "stdout",
     "output_type": "stream",
     "text": [
      "This sentence is on the first line.\n",
      "This sentence is on the second line.\n"
     ]
    }
   ],
   "source": [
    "print(\"This sentence is on the first line.\\nThis sentence is on the second line.\")"
   ]
  },
  {
   "cell_type": "markdown",
   "metadata": {},
   "source": [
    "There are other times you may see characters escaped, but we'll discuss those as we come across them."
   ]
  },
  {
   "cell_type": "markdown",
   "metadata": {},
   "source": [
    "### Triple Quote (Multi-line) Strings\n",
    "\n",
    "You may recall in some of our functions we created a **docstring** using triple quotes `\"\"\" \"\"\"`. You can create strings with triple quotes in normal code. This will automatically include the end of line characters."
   ]
  },
  {
   "cell_type": "code",
   "execution_count": 20,
   "metadata": {},
   "outputs": [
    {
     "name": "stdout",
     "output_type": "stream",
     "text": [
      "First line.\n",
      "Second line.\n",
      "    Tabbed. Third line.\n"
     ]
    }
   ],
   "source": [
    "print(\"\"\"First line.\n",
    "Second line.\n",
    "    Tabbed. Third line.\"\"\")"
   ]
  },
  {
   "cell_type": "markdown",
   "metadata": {},
   "source": [
    "## Manipulating Strings\n",
    "\n",
    "There are a lot of operations we can perform on strings once we've declared them. Let's go through a few examples."
   ]
  },
  {
   "cell_type": "markdown",
   "metadata": {},
   "source": [
    "Calculate how many characters are in a string (the length) by using the `len()` function."
   ]
  },
  {
   "cell_type": "code",
   "execution_count": 21,
   "metadata": {},
   "outputs": [
    {
     "name": "stdout",
     "output_type": "stream",
     "text": [
      "36\n"
     ]
    }
   ],
   "source": [
    "my_string = \"Hello and welcome to ModernCoder.io!\"\n",
    "print(len(my_string))"
   ]
  },
  {
   "cell_type": "markdown",
   "metadata": {},
   "source": [
    "You can add or **concatenate** two or more strings together by using the `+` operator."
   ]
  },
  {
   "cell_type": "code",
   "execution_count": 22,
   "metadata": {},
   "outputs": [
    {
     "name": "stdout",
     "output_type": "stream",
     "text": [
      "Hello and welcome to ModernCoder.io! I hope you are enjoying learning to program.\n"
     ]
    }
   ],
   "source": [
    "new_string = my_string + \" I hope you are enjoying learning to program.\"\n",
    "print(new_string)"
   ]
  },
  {
   "cell_type": "markdown",
   "metadata": {},
   "source": [
    "You can break up a string into a **list** of strings using `.split()`. We'll cover lists more in a future tutorial."
   ]
  },
  {
   "cell_type": "code",
   "execution_count": 23,
   "metadata": {},
   "outputs": [
    {
     "name": "stdout",
     "output_type": "stream",
     "text": [
      "['Hello', 'and', 'welcome', 'to', 'ModernCoder.io!']\n"
     ]
    }
   ],
   "source": [
    "# Separate the string at each empty space ' '.\n",
    "print(my_string.split(' '))"
   ]
  },
  {
   "cell_type": "markdown",
   "metadata": {},
   "source": [
    "You can change the case of a string by calling several methods on the string object."
   ]
  },
  {
   "cell_type": "code",
   "execution_count": 24,
   "metadata": {},
   "outputs": [
    {
     "data": {
      "text/plain": [
       "'hello and welcome to moderncoder.io!'"
      ]
     },
     "execution_count": 24,
     "metadata": {},
     "output_type": "execute_result"
    }
   ],
   "source": [
    "# Convert all character to lowercase.\n",
    "my_string.lower()"
   ]
  },
  {
   "cell_type": "code",
   "execution_count": 25,
   "metadata": {},
   "outputs": [
    {
     "data": {
      "text/plain": [
       "'HELLO AND WELCOME TO MODERNCODER.IO!'"
      ]
     },
     "execution_count": 25,
     "metadata": {},
     "output_type": "execute_result"
    }
   ],
   "source": [
    "# Convert all character to uppercase.\n",
    "my_string.upper()"
   ]
  },
  {
   "cell_type": "code",
   "execution_count": 26,
   "metadata": {},
   "outputs": [
    {
     "data": {
      "text/plain": [
       "'Hello And Welcome To Moderncoder.Io!'"
      ]
     },
     "execution_count": 26,
     "metadata": {},
     "output_type": "execute_result"
    }
   ],
   "source": [
    "# Convert to title case.\n",
    "my_string.title()"
   ]
  },
  {
   "cell_type": "markdown",
   "metadata": {},
   "source": [
    "### Get A String From The User\n",
    "\n",
    "You can prompt the user to enter a string in the command line or notebook by using the built-in `input()` function. It will store whatever the user types in the variable you specify."
   ]
  },
  {
   "cell_type": "code",
   "execution_count": 29,
   "metadata": {},
   "outputs": [
    {
     "name": "stdout",
     "output_type": "stream",
     "text": [
      "Enter your name: Daniel\n",
      "Daniel\n"
     ]
    }
   ],
   "source": [
    "users_name = input(\"Enter your name: \")\n",
    "print(users_name)"
   ]
  },
  {
   "cell_type": "code",
   "execution_count": 31,
   "metadata": {},
   "outputs": [
    {
     "name": "stdout",
     "output_type": "stream",
     "text": [
      "Daniel\n"
     ]
    }
   ],
   "source": [
    "print(users_name)"
   ]
  },
  {
   "cell_type": "markdown",
   "metadata": {},
   "source": [
    "The string you pass to `input()` is the message displayed to the user.\n",
    "\n",
    "Sometimes getting input from a user means some unwanted spaces in your string."
   ]
  },
  {
   "cell_type": "code",
   "execution_count": 32,
   "metadata": {},
   "outputs": [
    {
     "name": "stdout",
     "output_type": "stream",
     "text": [
      "Enter your name:      Daniel       \n"
     ]
    },
    {
     "data": {
      "text/plain": [
       "'     Daniel       '"
      ]
     },
     "execution_count": 32,
     "metadata": {},
     "output_type": "execute_result"
    }
   ],
   "source": [
    "users_name = input(\"Enter your name: \")\n",
    "users_name"
   ]
  },
  {
   "cell_type": "markdown",
   "metadata": {},
   "source": [
    "You can remove the extra whitespace at the start and end of a string by using the `.strip()` method."
   ]
  },
  {
   "cell_type": "code",
   "execution_count": 33,
   "metadata": {},
   "outputs": [
    {
     "data": {
      "text/plain": [
       "'Daniel'"
      ]
     },
     "execution_count": 33,
     "metadata": {},
     "output_type": "execute_result"
    }
   ],
   "source": [
    "users_name = users_name.strip()\n",
    "users_name"
   ]
  },
  {
   "cell_type": "markdown",
   "metadata": {},
   "source": [
    "This is useful to fix odd inputs you might get from users or other sources of data."
   ]
  },
  {
   "cell_type": "markdown",
   "metadata": {},
   "source": [
    "## String Formatting\n",
    "\n",
    "You can **format** your string with the values of variables in your code. Write a single string, and populate it with a user's name, phone number, age or email for example. Let's look at two methods to do essentially the same thing. First is the `.format()` method, and then a more recent approach called `f-strings` available in Python version 3.6 and higher."
   ]
  },
  {
   "cell_type": "markdown",
   "metadata": {},
   "source": [
    "### Using .format()"
   ]
  },
  {
   "cell_type": "code",
   "execution_count": 34,
   "metadata": {},
   "outputs": [
    {
     "name": "stdout",
     "output_type": "stream",
     "text": [
      "Hello Daniel! welcome to your homepage.\n"
     ]
    }
   ],
   "source": [
    "formatted_string = \"Hello {}! welcome to your homepage.\".format(users_name)\n",
    "print(formatted_string)"
   ]
  },
  {
   "cell_type": "markdown",
   "metadata": {},
   "source": [
    "Here we declared a string with a placeholder using the curly brackets `{}`. The value of first argument to `.format()` is place inside the placeholder when the string is printed. You can have multiple placeholders and they will be formatted in the order of the arguments."
   ]
  },
  {
   "cell_type": "code",
   "execution_count": 36,
   "metadata": {},
   "outputs": [
    {
     "name": "stdout",
     "output_type": "stream",
     "text": [
      "Daniel, the year is 2020, and you love coffee.\n"
     ]
    }
   ],
   "source": [
    "formatted_string = \"{}, the year is {}, and you love {}.\".format(users_name, 2020, \"coffee\")\n",
    "print(formatted_string)"
   ]
  },
  {
   "cell_type": "markdown",
   "metadata": {},
   "source": [
    "If you want to use a variable multiple times in a string, or in a different order than the arguments passed to `.format()` you can specify numbers that correspond to the arguments. Staring with 0. (Python is **zero-indexed**. We'll talk about that more when we come to **lists**)."
   ]
  },
  {
   "cell_type": "code",
   "execution_count": 37,
   "metadata": {},
   "outputs": [
    {
     "name": "stdout",
     "output_type": "stream",
     "text": [
      "In the beginning there was coffee, Daniel. Now, in the year 2020, there is still much coffee\n"
     ]
    }
   ],
   "source": [
    "formatted_string = \"In the beginning there was {2}, {0}. Now, in the year {1}, there is still much {2}\".format(users_name, 2020, \"coffee\")\n",
    "print(formatted_string)"
   ]
  },
  {
   "cell_type": "markdown",
   "metadata": {},
   "source": [
    "You'll notice here we used them out of order, and we used `\"coffee\"` twice in the string while only having to pass it as a single argument to `.format()`."
   ]
  },
  {
   "cell_type": "markdown",
   "metadata": {},
   "source": [
    "### Using f-strings"
   ]
  },
  {
   "cell_type": "markdown",
   "metadata": {},
   "source": [
    "In Python 3.6 and newer we can use an alterntive approach to string formatting called **f-strings**. You can enter variables and expressions directly into the string's placeholders `{}` instead of passing them to `.format()` at the end of the string. Simply put an `f` before the string when you declare it."
   ]
  },
  {
   "cell_type": "code",
   "execution_count": 38,
   "metadata": {},
   "outputs": [
    {
     "name": "stdout",
     "output_type": "stream",
     "text": [
      "Hello Daniel! welcome to your homepage.\n"
     ]
    }
   ],
   "source": [
    "f_string = f\"Hello {users_name}! welcome to your homepage.\"\n",
    "print(f_string)"
   ]
  },
  {
   "cell_type": "markdown",
   "metadata": {},
   "source": [
    "You can put expressions inside the placeholders as well."
   ]
  },
  {
   "cell_type": "code",
   "execution_count": 39,
   "metadata": {},
   "outputs": [
    {
     "name": "stdout",
     "output_type": "stream",
     "text": [
      "The product of 3 and 5 is 15.\n"
     ]
    }
   ],
   "source": [
    "f_string = f\"The product of 3 and 5 is {3 * 5}.\"\n",
    "print(f_string)"
   ]
  },
  {
   "cell_type": "markdown",
   "metadata": {},
   "source": [
    "What happens if we end up with a **float** in our string?"
   ]
  },
  {
   "cell_type": "code",
   "execution_count": 41,
   "metadata": {},
   "outputs": [
    {
     "name": "stdout",
     "output_type": "stream",
     "text": [
      "The answer to 10 divided by 3 is 3.3333333333333335.\n"
     ]
    }
   ],
   "source": [
    "f_string = f\"The answer to 10 divided by 3 is {10/3}.\"\n",
    "print(f_string)"
   ]
  },
  {
   "cell_type": "markdown",
   "metadata": {},
   "source": [
    "Yikes! That's a lot of decimal places. It's definitely possible we don't want that many. Luckily we we can use **format specification** to gain more control over how the string is displayed."
   ]
  },
  {
   "cell_type": "code",
   "execution_count": 43,
   "metadata": {},
   "outputs": [
    {
     "name": "stdout",
     "output_type": "stream",
     "text": [
      "The answer to 10 divided by 3 is 3.33.\n"
     ]
    }
   ],
   "source": [
    "f_string = f\"The answer to 10 divided by 3 is {10/3:.2f}.\"\n",
    "print(f_string)"
   ]
  },
  {
   "cell_type": "markdown",
   "metadata": {},
   "source": [
    "We added this part `:.2f` to the end of our placeholder. This works for **both** f-strings and the `.format()` method. The part after the `:` is the format specification. Here we say we want a precision of two decimal places (`.2`) and it is a float (`f`). There are a _lot_ more options to format specifications which we will cover as the need arises. If you're curious you can head on over to the [official documentation](https://docs.python.org/3/library/string.html#format-specification-mini-language)."
   ]
  },
  {
   "cell_type": "markdown",
   "metadata": {},
   "source": [
    "## Searching Strings"
   ]
  },
  {
   "cell_type": "code",
   "execution_count": null,
   "metadata": {},
   "outputs": [],
   "source": []
  }
 ],
 "metadata": {
  "kernelspec": {
   "display_name": "Python 3",
   "language": "python",
   "name": "python3"
  },
  "language_info": {
   "codemirror_mode": {
    "name": "ipython",
    "version": 3
   },
   "file_extension": ".py",
   "mimetype": "text/x-python",
   "name": "python",
   "nbconvert_exporter": "python",
   "pygments_lexer": "ipython3",
   "version": "3.7.5"
  }
 },
 "nbformat": 4,
 "nbformat_minor": 2
}
