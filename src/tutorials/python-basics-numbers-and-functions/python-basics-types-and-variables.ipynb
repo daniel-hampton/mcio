{
 "cells": [
  {
   "cell_type": "markdown",
   "metadata": {},
   "source": [
    "# Python Basics - Types and Variables\n",
    "We're going to cover some basics on interacting with the python interpreter, in this case `ipython` through\n",
    "the `jupter notebook`\n",
    "\n",
    "This tutorial assumes you have at least Python 3.6 installed. You can watch this video on\n",
    "[Getting Started with Python](https://modercoder.io/getting-started-with-python) on how to\n",
    "get up and running.\n",
    "\n",
    "::: tip Note\n",
    "In the regular article of this tutorial, code entered into the interpreter are in code blocks marked with `py` shown in the upper right. The output is shown in a code block immediately below, without the `py` marker.\n",
    "\n",
    "You can view the `notebook` version of this article on [GitHub]()\n",
    ":::\n",
    "\n",
    "If you installed Python through Anaconda `ipython` and `jupyter` are already installed. However, \n",
    "they can also be easily added for free from any Python installation. Use these commands\n",
    "your terminal or command prompt:\n",
    "```\n",
    "pip install ipython\n",
    "pip install jupyter\n",
    "```\n"
   ]
  },
  {
   "cell_type": "markdown",
   "metadata": {},
   "source": [
    "We will also take a tour of the most common Python data types:\n",
    "\n",
    "* integers\n",
    "* floats\n",
    "* strings\n",
    "* booleans\n",
    "* lists\n",
    "* dictionaries"
   ]
  },
  {
   "cell_type": "markdown",
   "metadata": {},
   "source": [
    "## Using Python as a Calculator\n",
    "You can use Python just as you would a calculator. This may be an extreme approach to calculating a tip, but it's the simplest interaction to start with. You can add, subtract, multiply, and divide numbers with ease.\n",
    "\n",
    "::: Tip\n",
    "\n",
    "You can add comments to your code by using the `#` symbol. Anything after `#` on the is just a note for you the reader and will not be executed as code. \n",
    "\n",
    "`# This is not considered code`\n",
    "\n",
    ":::"
   ]
  },
  {
   "cell_type": "code",
   "execution_count": 1,
   "metadata": {},
   "outputs": [
    {
     "data": {
      "text/plain": [
       "15"
      ]
     },
     "execution_count": 1,
     "metadata": {},
     "output_type": "execute_result"
    }
   ],
   "source": [
    "# Addition\n",
    "5 + 10"
   ]
  },
  {
   "cell_type": "code",
   "execution_count": 2,
   "metadata": {},
   "outputs": [
    {
     "data": {
      "text/plain": [
       "7"
      ]
     },
     "execution_count": 2,
     "metadata": {},
     "output_type": "execute_result"
    }
   ],
   "source": [
    "# Subtraction\n",
    "10 - 3"
   ]
  },
  {
   "cell_type": "code",
   "execution_count": 3,
   "metadata": {},
   "outputs": [
    {
     "data": {
      "text/plain": [
       "12"
      ]
     },
     "execution_count": 3,
     "metadata": {},
     "output_type": "execute_result"
    }
   ],
   "source": [
    "# Multiplication\n",
    "4 * 3"
   ]
  },
  {
   "cell_type": "code",
   "execution_count": 4,
   "metadata": {},
   "outputs": [
    {
     "data": {
      "text/plain": [
       "10.0"
      ]
     },
     "execution_count": 4,
     "metadata": {},
     "output_type": "execute_result"
    }
   ],
   "source": [
    "# Division\n",
    "20 / 2"
   ]
  },
  {
   "cell_type": "markdown",
   "metadata": {},
   "source": [
    "Notice that last one? `10.0` instead of `10`. We'll cover this more in just a bit, but the division operator `/` will always return a number with a decimal, called a **float**, rather than a whole number, called an **integer**. There's another division operator for **floor division** that always returns the whole number part."
   ]
  },
  {
   "cell_type": "code",
   "execution_count": 5,
   "metadata": {},
   "outputs": [
    {
     "data": {
      "text/plain": [
       "6"
      ]
     },
     "execution_count": 5,
     "metadata": {},
     "output_type": "execute_result"
    }
   ],
   "source": [
    "# Floor Division\n",
    "20 // 3"
   ]
  },
  {
   "cell_type": "code",
   "execution_count": 6,
   "metadata": {},
   "outputs": [
    {
     "data": {
      "text/plain": [
       "25"
      ]
     },
     "execution_count": 6,
     "metadata": {},
     "output_type": "execute_result"
    }
   ],
   "source": [
    "# Exponentials\n",
    "5 ** 2"
   ]
  },
  {
   "cell_type": "markdown",
   "metadata": {},
   "source": [
    "Remainders from division can be calculated using the **modulo** operator `%`. Yes, I just called it a percent sign too. 😎 So we can stay cool."
   ]
  },
  {
   "cell_type": "code",
   "execution_count": 7,
   "metadata": {},
   "outputs": [
    {
     "data": {
      "text/plain": [
       "2"
      ]
     },
     "execution_count": 7,
     "metadata": {},
     "output_type": "execute_result"
    }
   ],
   "source": [
    "# Remainder\n",
    "10 % 4"
   ]
  },
  {
   "cell_type": "markdown",
   "metadata": {},
   "source": [
    "We can use parentheses `( )` to form more complicated expressions and control the order of operations."
   ]
  },
  {
   "cell_type": "code",
   "execution_count": 8,
   "metadata": {},
   "outputs": [
    {
     "data": {
      "text/plain": [
       "24"
      ]
     },
     "execution_count": 8,
     "metadata": {},
     "output_type": "execute_result"
    }
   ],
   "source": [
    "# A more complex expression\n",
    "3 * (5 + 3)"
   ]
  },
  {
   "cell_type": "code",
   "execution_count": 9,
   "metadata": {},
   "outputs": [
    {
     "data": {
      "text/plain": [
       "10"
      ]
     },
     "execution_count": 9,
     "metadata": {},
     "output_type": "execute_result"
    }
   ],
   "source": [
    "# A more more complex expression\n",
    "(3 * ((5 % 2) * 3)) + 1"
   ]
  },
  {
   "cell_type": "markdown",
   "metadata": {},
   "source": [
    "## Intro to Variables\n",
    "\n",
    "> What if I want to store the result of my calculation to use later?\n",
    "\n",
    "Great question! 💯 We can store our hard earned result in a **variable**"
   ]
  },
  {
   "cell_type": "code",
   "execution_count": 10,
   "metadata": {},
   "outputs": [],
   "source": [
    "# Variable assignment\n",
    "x = 2"
   ]
  },
  {
   "cell_type": "code",
   "execution_count": 11,
   "metadata": {},
   "outputs": [
    {
     "data": {
      "text/plain": [
       "2"
      ]
     },
     "execution_count": 11,
     "metadata": {},
     "output_type": "execute_result"
    }
   ],
   "source": [
    "x"
   ]
  },
  {
   "cell_type": "markdown",
   "metadata": {},
   "source": [
    "x equals 2? Not exactly. The `=` operator is the **assignment** operator. There is another operator for *equality* `==` that compares two values, which we will cover later.\n",
    "\n",
    "The *assignment* operator says: give the *variable*, which we named `x`, the *value* of `2`. Now, wherever we use variable `x` it will be as if we typed `2` instead."
   ]
  },
  {
   "cell_type": "code",
   "execution_count": 12,
   "metadata": {},
   "outputs": [
    {
     "data": {
      "text/plain": [
       "5"
      ]
     },
     "execution_count": 12,
     "metadata": {},
     "output_type": "execute_result"
    }
   ],
   "source": [
    "x + 3"
   ]
  },
  {
   "cell_type": "code",
   "execution_count": 13,
   "metadata": {},
   "outputs": [
    {
     "data": {
      "text/plain": [
       "6"
      ]
     },
     "execution_count": 13,
     "metadata": {},
     "output_type": "execute_result"
    }
   ],
   "source": [
    "x + x + x"
   ]
  },
  {
   "cell_type": "markdown",
   "metadata": {},
   "source": [
    "You get the idea. You can name a variable whatever you like, as long as it doesn't start with a number or contain certain special characters, like spaces or quotes. For example:\n",
    "\n",
    "**OK:**\n",
    "\n",
    "* `my_variable`\n",
    "* `important_variable6`\n",
    "* `_moose`\n",
    "* `BIG_CAT`\n",
    "* `smallDog`\n",
    "\n",
    "**WON'T WORK:**\n",
    "\n",
    "* `no spaces`\n",
    "* `\"airquotes\"`\n",
    "* `99numbersCan'tGoFirst`\n",
    "\n",
    "Let's store the value for that more complicated expression"
   ]
  },
  {
   "cell_type": "code",
   "execution_count": 14,
   "metadata": {},
   "outputs": [],
   "source": [
    "# Give the variable named 'my_important_result' the value of the expression.\n",
    "my_important_result = (3 * ((5 % 2) * 3)) + 1"
   ]
  },
  {
   "cell_type": "code",
   "execution_count": 15,
   "metadata": {},
   "outputs": [
    {
     "data": {
      "text/plain": [
       "10"
      ]
     },
     "execution_count": 15,
     "metadata": {},
     "output_type": "execute_result"
    }
   ],
   "source": [
    "my_important_result"
   ]
  },
  {
   "cell_type": "markdown",
   "metadata": {},
   "source": [
    "To recap, the pattern looks like this:\n",
    "\n",
    "|variable name|assignment operator|expression|\n",
    "|:-----:|:-----:|:-----:|\n",
    "|my_important_result|=| (3 * ((5 % 2) * 3)) + 1 |\n",
    "|x|=|2|\n",
    "|y|=| x + x + 3 |\n"
   ]
  },
  {
   "cell_type": "markdown",
   "metadata": {},
   "source": [
    "You can *resassing* variables. Later uses of the variable will now use the new value, instead of the old"
   ]
  },
  {
   "cell_type": "code",
   "execution_count": 16,
   "metadata": {},
   "outputs": [],
   "source": [
    "my_important_result = 200"
   ]
  },
  {
   "cell_type": "code",
   "execution_count": 17,
   "metadata": {},
   "outputs": [
    {
     "data": {
      "text/plain": [
       "400"
      ]
     },
     "execution_count": 17,
     "metadata": {},
     "output_type": "execute_result"
    }
   ],
   "source": [
    "my_important_result + my_important_result"
   ]
  },
  {
   "cell_type": "markdown",
   "metadata": {},
   "source": [
    "## Intro to Functions\n",
    "\n",
    "> I don't want to type these complicated expressions all the time. How can I resuse my important calculations over and over again?\n",
    "\n",
    "Great question! 🥇 Let's introduce the idea of **functions**. Similar to how *variables* can store *values* for repeated use, functions can store *logic* for repeated use. Use the keyword `def` to **define** a function."
   ]
  },
  {
   "cell_type": "code",
   "execution_count": 18,
   "metadata": {},
   "outputs": [],
   "source": [
    "def save_my_logic():\n",
    "    return 2 * 8"
   ]
  },
  {
   "cell_type": "markdown",
   "metadata": {},
   "source": [
    "Notice the `()` in the function definition? They're important. Now we can **call** the function with this pattern: `function_name()`."
   ]
  },
  {
   "cell_type": "code",
   "execution_count": 19,
   "metadata": {},
   "outputs": [
    {
     "data": {
      "text/plain": [
       "16"
      ]
     },
     "execution_count": 19,
     "metadata": {},
     "output_type": "execute_result"
    }
   ],
   "source": [
    "save_my_logic()"
   ]
  },
  {
   "cell_type": "markdown",
   "metadata": {},
   "source": [
    "Notice the `return` keyword in our function definition? The function can have any number of steps, but you will probably want to get back some value from your important calculation. So we need to tell it to `return` that value. It'll make more sense if we add a few more steps."
   ]
  },
  {
   "cell_type": "code",
   "execution_count": 20,
   "metadata": {},
   "outputs": [],
   "source": [
    "def save_my_logic():\n",
    "    x = 3\n",
    "    y = 4\n",
    "    return x * y"
   ]
  },
  {
   "cell_type": "code",
   "execution_count": 21,
   "metadata": {},
   "outputs": [
    {
     "data": {
      "text/plain": [
       "12"
      ]
     },
     "execution_count": 21,
     "metadata": {},
     "output_type": "execute_result"
    }
   ],
   "source": [
    "save_my_logic()"
   ]
  },
  {
   "cell_type": "markdown",
   "metadata": {},
   "source": [
    "Incredible! You can see we were able to assign values to variables within our function, and return something specific, in this case the product of `x` and `y`. Now you can use this function as many times as you want and it will repeat those steps for you."
   ]
  },
  {
   "cell_type": "code",
   "execution_count": 22,
   "metadata": {},
   "outputs": [],
   "source": [
    "new_variable = save_my_logic() * save_my_logic() + save_my_logic()"
   ]
  },
  {
   "cell_type": "code",
   "execution_count": 23,
   "metadata": {},
   "outputs": [
    {
     "data": {
      "text/plain": [
       "156"
      ]
     },
     "execution_count": 23,
     "metadata": {},
     "output_type": "execute_result"
    }
   ],
   "source": [
    "new_variable"
   ]
  },
  {
   "cell_type": "markdown",
   "metadata": {},
   "source": [
    "Let's add some help text, or a **docstring** to our function to remind us what it does."
   ]
  },
  {
   "cell_type": "code",
   "execution_count": 24,
   "metadata": {},
   "outputs": [],
   "source": [
    "def save_my_logic():\n",
    "    \"\"\"Multiplies 3 by 4\"\"\"\n",
    "    x = 3\n",
    "    y = 4\n",
    "    return x * y"
   ]
  },
  {
   "cell_type": "markdown",
   "metadata": {},
   "source": [
    "This docstring is a comment (not executed as code) that tells you or future users of your function what it does. Documentation is important in programming. Programmers at all skill levels write and use documentation, even for your own code. It isn't easy to remember what you were trying to do 6 months ago!"
   ]
  },
  {
   "cell_type": "markdown",
   "metadata": {},
   "source": [
    "Here's one way to access the docstring of our function:"
   ]
  },
  {
   "cell_type": "code",
   "execution_count": 25,
   "metadata": {},
   "outputs": [
    {
     "name": "stdout",
     "output_type": "stream",
     "text": [
      "Help on function save_my_logic in module __main__:\n",
      "\n",
      "save_my_logic()\n",
      "    Multiplies 3 by 4\n",
      "\n"
     ]
    }
   ],
   "source": [
    "help(save_my_logic)"
   ]
  },
  {
   "cell_type": "markdown",
   "metadata": {},
   "source": [
    "Whoa, where did that `help` thing come from? It's just another function. One that is built into python that tells you what a function does. Notice the parentheses in `help(our_function_name)`? This is another instance of *calling* a function. But this time there's something *inside* the parentheses. That means we are passing something as an **argument** into the function, which the function will then use. An argument can be nearly any object. Values, variables, even *other functions* can be arguments! Notice how we passed `save_my_logic`, which is a function we made, into the `help` function. We did **not** use `save_my_logic()`, with the parentheses, which would have called the function and executed it's code, returning the value 12. In this case we just passed the function *itself*. The `help` function then reads the docstring we created and displays that information to us. We can use `help(function_name)` on any function. Even `help` itself!"
   ]
  },
  {
   "cell_type": "code",
   "execution_count": 26,
   "metadata": {},
   "outputs": [
    {
     "name": "stdout",
     "output_type": "stream",
     "text": [
      "Help on _Helper in module _sitebuiltins object:\n",
      "\n",
      "class _Helper(builtins.object)\n",
      " |  Define the builtin 'help'.\n",
      " |  \n",
      " |  This is a wrapper around pydoc.help that provides a helpful message\n",
      " |  when 'help' is typed at the Python interactive prompt.\n",
      " |  \n",
      " |  Calling help() at the Python prompt starts an interactive help session.\n",
      " |  Calling help(thing) prints help for the python object 'thing'.\n",
      " |  \n",
      " |  Methods defined here:\n",
      " |  \n",
      " |  __call__(self, *args, **kwds)\n",
      " |      Call self as a function.\n",
      " |  \n",
      " |  __repr__(self)\n",
      " |      Return repr(self).\n",
      " |  \n",
      " |  ----------------------------------------------------------------------\n",
      " |  Data descriptors defined here:\n",
      " |  \n",
      " |  __dict__\n",
      " |      dictionary for instance variables (if defined)\n",
      " |  \n",
      " |  __weakref__\n",
      " |      list of weak references to the object (if defined)\n",
      "\n"
     ]
    }
   ],
   "source": [
    "help(help)  # You can call help on help!"
   ]
  },
  {
   "cell_type": "markdown",
   "metadata": {},
   "source": [
    "### Help Shortcut\n",
    "\n",
    "There's a shortcut to getting documentation help. Put a question mark at the end of the function: `function_name?`\n",
    "\n",
    "If you're using the regular python interactive prompt. You have to use the `help()` function. \n",
    "![question help doesn't work](./no-question-help-python-interpreter.png)\n",
    "\n",
    "But if you are using `ipython` or a `jupyter notebook` you can use the question mark shortcut.\n",
    "![question mark help in ipython](./question-help-ipython.png)\n",
    "\n",
    "![question mark help in jupyter notebook](./question-help-jupyter.png)\n"
   ]
  },
  {
   "cell_type": "markdown",
   "metadata": {},
   "source": [
    "### Adding Parameters\n",
    "\n",
    "> Wait just a moment. Can I have arguments in my own functions, so I can repeat the important calculations with different numbers?\n",
    "\n",
    "Great question! 🎱 Yes you can. Let's make it so `save_my_logic` can take arguments."
   ]
  },
  {
   "cell_type": "code",
   "execution_count": 27,
   "metadata": {},
   "outputs": [],
   "source": [
    "def save_my_logic(x, y):\n",
    "    \"\"\"Multiplies x by y\"\"\"\n",
    "\n",
    "    return x * y"
   ]
  },
  {
   "cell_type": "markdown",
   "metadata": {},
   "source": [
    "We have updated our function definition so `x` and `y` are no longer hardcoded inside the function. They've been moved to within the parentheses of our function definition. `x` and `y` are now called **parameters**. You can think of parameters as the placeholders for values that will be used when the function is eventually *called*.\n",
    "\n",
    "For example, in this code snippet `a`, `b`, `c` are the function **parameters** and `x`, `y`, `z` are the **arguments** being passed into the function when it is used.\n",
    "\n",
    "```python\n",
    "def my_function_name(a, b, c):\n",
    "    return a + b + c\n",
    "    \n",
    "x = 2\n",
    "y = 4\n",
    "z = 8\n",
    "\n",
    "my_function_name(x, y, z)\n",
    "```\n"
   ]
  },
  {
   "cell_type": "markdown",
   "metadata": {},
   "source": [
    "Lets use our updated function."
   ]
  },
  {
   "cell_type": "code",
   "execution_count": 28,
   "metadata": {},
   "outputs": [
    {
     "data": {
      "text/plain": [
       "8"
      ]
     },
     "execution_count": 28,
     "metadata": {},
     "output_type": "execute_result"
    }
   ],
   "source": [
    "save_my_logic(2, 4)"
   ]
  },
  {
   "cell_type": "code",
   "execution_count": 29,
   "metadata": {},
   "outputs": [
    {
     "data": {
      "text/plain": [
       "18"
      ]
     },
     "execution_count": 29,
     "metadata": {},
     "output_type": "execute_result"
    }
   ],
   "source": [
    "# remember you can name variables whatever you want\n",
    "cats = 3\n",
    "dogs = 6\n",
    "save_my_logic(cats, dogs)"
   ]
  },
  {
   "cell_type": "markdown",
   "metadata": {},
   "source": [
    "> All well and good, but how about a useful example instead of just adding and multiplying random numbers?\n",
    "\n",
    "Great question! 💰 Let's make a financial formula. Everyone loves money 💵.\n",
    "\n",
    "Calculating compound interest of an investment:\n",
    "\n",
    "$$A=P \\left( 1+\\frac{r}{n} \\right) ^{n*t}$$\n",
    "\n",
    "But we can make this more readable:\n",
    "\n",
    "$$account\\_total = principle \\left( 1+\\frac{interest\\_rate}{num\\_times\\_compounded\\_per\\_year} \\right) ^{num\\_times\\_compounded\\_per\\_year * number\\_of\\_years}$$"
   ]
  },
  {
   "cell_type": "markdown",
   "metadata": {},
   "source": [
    "Let's build this equation as a Python function."
   ]
  },
  {
   "cell_type": "code",
   "execution_count": 30,
   "metadata": {},
   "outputs": [],
   "source": [
    "def show_me_the_monies(principle, interest_rate, num_times_compounded_per_year, number_of_years):\n",
    "    \"\"\"Calculate the total account balance of an investment\"\"\"\n",
    "    account_total = principle * (1 + (interest_rate / num_times_compounded_per_year)) ** (num_times_compounded_per_year * number_of_years)\n",
    "    \n",
    "    return account_total"
   ]
  },
  {
   "cell_type": "markdown",
   "metadata": {},
   "source": [
    "Whew, glad we don't have to type all that everytime we want to do this calculation. Let's see this function in use."
   ]
  },
  {
   "cell_type": "code",
   "execution_count": 31,
   "metadata": {},
   "outputs": [
    {
     "data": {
      "text/plain": [
       "525.0"
      ]
     },
     "execution_count": 31,
     "metadata": {},
     "output_type": "execute_result"
    }
   ],
   "source": [
    "# Set up our input data. The names of these variables do not have to match the function parameters names.\n",
    "# But it's easier to follow this way.\n",
    "\n",
    "principle = 500  # Dollars!\n",
    "interest_rate = 0.05  # 5% expressed as a decimal\n",
    "num_times_compounded_per_year = 1  # compounded annually, start simple.\n",
    "number_of_years = 1  # start off with just a year, start simple.\n",
    "\n",
    "show_me_the_monies(principle, interest_rate, num_times_compounded_per_year, number_of_years)"
   ]
  },
  {
   "cell_type": "markdown",
   "metadata": {},
   "source": [
    "It works! The order of the arguments passed into the function is important. If we forget the order we defined our function, we can call on the documentation help.\n",
    "![argument order help](./argument-order-help.png)\n",
    "\n"
   ]
  },
  {
   "cell_type": "markdown",
   "metadata": {},
   "source": [
    "Time to sanity check our function."
   ]
  },
  {
   "cell_type": "code",
   "execution_count": 32,
   "metadata": {},
   "outputs": [
    {
     "data": {
      "text/plain": [
       "525.0"
      ]
     },
     "execution_count": 32,
     "metadata": {},
     "output_type": "execute_result"
    }
   ],
   "source": [
    "500 * 1.05"
   ]
  },
  {
   "cell_type": "markdown",
   "metadata": {},
   "source": [
    "Looks like it's working as it should.\n",
    "\n",
    "How does it change if we compound it monthly? Easy to check!"
   ]
  },
  {
   "cell_type": "code",
   "execution_count": 33,
   "metadata": {},
   "outputs": [
    {
     "data": {
      "text/plain": [
       "525.5809489408665"
      ]
     },
     "execution_count": 33,
     "metadata": {},
     "output_type": "execute_result"
    }
   ],
   "source": [
    "num_times_compounded_per_year = 12  # changed to compound monthly\n",
    "show_me_the_monies(principle, interest_rate, num_times_compounded_per_year, number_of_years)"
   ]
  },
  {
   "cell_type": "markdown",
   "metadata": {},
   "source": [
    "Not a huge difference. Let's see what it would be after 2 or 3 years of investment!"
   ]
  },
  {
   "cell_type": "code",
   "execution_count": 34,
   "metadata": {},
   "outputs": [
    {
     "data": {
      "text/plain": [
       "552.4706677791635"
      ]
     },
     "execution_count": 34,
     "metadata": {},
     "output_type": "execute_result"
    }
   ],
   "source": [
    "number_of_years = 2\n",
    "show_me_the_monies(principle, interest_rate, num_times_compounded_per_year, number_of_years)"
   ]
  },
  {
   "cell_type": "code",
   "execution_count": 35,
   "metadata": {},
   "outputs": [
    {
     "data": {
      "text/plain": [
       "580.7361156667339"
      ]
     },
     "execution_count": 35,
     "metadata": {},
     "output_type": "execute_result"
    }
   ],
   "source": [
    "number_of_years = 3\n",
    "show_me_the_monies(principle, interest_rate, num_times_compounded_per_year, number_of_years)"
   ]
  },
  {
   "cell_type": "markdown",
   "metadata": {},
   "source": [
    "There we have it. A useful example. With functions you can resuse complex logic and easily change the inputs."
   ]
  },
  {
   "cell_type": "markdown",
   "metadata": {},
   "source": [
    "## Intro to Imports\n",
    "\n",
    "> What if I want to do some fancier math with my Python powered über calculator?\n",
    "\n",
    "Great question! 👽 To do this, let's bring in some extra math tools (less dangerous than hammers) to help out, using what is called an **import statement**."
   ]
  },
  {
   "cell_type": "code",
   "execution_count": 36,
   "metadata": {},
   "outputs": [],
   "source": [
    "import math"
   ]
  },
  {
   "cell_type": "markdown",
   "metadata": {},
   "source": [
    "What did that just do? It brought in the [math](https://docs.python.org/3/library/math.html) library, which is built into Python. This provides us with those aforementioned extra tools. You can import any library that is built in or you've installed with `pip` by using the `import` keyword, followed by the name of library. `import os` for example, to bring in more tools for working with the operating system. \n",
    "\n",
    "Let's use the math tools we just imported. You do this by *calling* the **method** on the `math` object we just imported."
   ]
  },
  {
   "cell_type": "code",
   "execution_count": 37,
   "metadata": {},
   "outputs": [
    {
     "data": {
      "text/plain": [
       "5.0"
      ]
     },
     "execution_count": 37,
     "metadata": {},
     "output_type": "execute_result"
    }
   ],
   "source": [
    "# Square root method\n",
    "math.sqrt(25)"
   ]
  },
  {
   "cell_type": "markdown",
   "metadata": {},
   "source": [
    "We imported the library named `math` and called the square root method `.sqrt()` with the number `25` passed to that method. A method is just a function that is part of an object. Almost everything in Python is an object, so it's a very general term. In this case, the imported library `math` is our object, and the method is `.sqrt`. We *access* this method using the dot `.` notation. So a general form would be `my_object.method_name()` would call `method_name` on `my_object`. Remember you can check what a method does by using `help()` or `?`. For example: `math.sqrt?` would show the documentation for the `sqrt` method."
   ]
  },
  {
   "cell_type": "markdown",
   "metadata": {},
   "source": [
    ">How do I know what other tools are in the `math` library? \n",
    "\n",
    "Great question! 🛠\n",
    "\n",
    "One way to find out is to look at the official Python [documentation for the library](https://docs.python.org/3/library/math.html).\n",
    "\n",
    "An often easier way is to use **tab completion** available in `ipython`, `jupyter notebooks` and most IDEs or code editors. If you type `math.` (note the `.`) and hit `TAB` on your keyboard, it will show available methods in the `math` library. \n",
    "![tab completion in ipython](./tab-completion-ipython.png)\n",
    "\n",
    "Tab completion can also be used to complete variables or functions calls.\n",
    "\n",
    "For example, typing `save_my` then hitting `TAB` will autocomplete to `save_my_logic` because we defined it earlier in our code."
   ]
  },
  {
   "cell_type": "markdown",
   "metadata": {},
   "source": [
    "Notice some the suggestions don't have parentheses. These are not methods, but properties that represent a value. Such as the constant pi."
   ]
  },
  {
   "cell_type": "code",
   "execution_count": 38,
   "metadata": {},
   "outputs": [
    {
     "data": {
      "text/plain": [
       "3.141592653589793"
      ]
     },
     "execution_count": 38,
     "metadata": {},
     "output_type": "execute_result"
    }
   ],
   "source": [
    "math.pi"
   ]
  },
  {
   "cell_type": "code",
   "execution_count": 39,
   "metadata": {},
   "outputs": [
    {
     "data": {
      "text/plain": [
       "1.0"
      ]
     },
     "execution_count": 39,
     "metadata": {},
     "output_type": "execute_result"
    }
   ],
   "source": [
    "# Sine of 90 degrees. We're calling the 'sin' method and using the constant 'pi'.\n",
    "math.sin(math.pi / 2)"
   ]
  },
  {
   "cell_type": "markdown",
   "metadata": {},
   "source": [
    "### Import Namespacing\n",
    "\n",
    "> What if I don't like typing `math` all the time to use `pi` or `sqrt`?\n",
    "\n",
    "Great... question? 🆒\n",
    "\n",
    "The solution is the awesome power of **namespacing**. Behold:"
   ]
  },
  {
   "cell_type": "code",
   "execution_count": 40,
   "metadata": {},
   "outputs": [],
   "source": [
    "import math as m"
   ]
  },
  {
   "cell_type": "markdown",
   "metadata": {},
   "source": [
    "We have created an alias for `math` called `m`. When we use `m` we are referring to the `math` library. Namespacing just means all our `math` methods are contained within the `math` or `m` namespace and must be accessed with the dot notation. `math.sqrt()` or `m.sqrt()`. \n",
    "\n",
    "If two libraries had a function with the same name, let's say `calculate`, using namespacing avoids potential conflicts. `blue.calculate()` and `red.calculate()` clearly refer to two different functions, both named `calculate` but one from the `blue` library and another from the `red` library."
   ]
  },
  {
   "cell_type": "code",
   "execution_count": 41,
   "metadata": {},
   "outputs": [
    {
     "data": {
      "text/plain": [
       "3.141592653589793"
      ]
     },
     "execution_count": 41,
     "metadata": {},
     "output_type": "execute_result"
    }
   ],
   "source": [
    "m.pi"
   ]
  },
  {
   "cell_type": "code",
   "execution_count": 42,
   "metadata": {},
   "outputs": [
    {
     "data": {
      "text/plain": [
       "5.0"
      ]
     },
     "execution_count": 42,
     "metadata": {},
     "output_type": "execute_result"
    }
   ],
   "source": [
    "m.sqrt(25)"
   ]
  },
  {
   "cell_type": "raw",
   "metadata": {},
   "source": [
    "Are you not entertained?"
   ]
  },
  {
   "cell_type": "markdown",
   "metadata": {},
   "source": [
    ">What if I don't like typing `m` all the time?\n",
    "\n",
    "... 🦍\n",
    "\n",
    "Got you covered. If you just want to import `pi` and `sqrt` you can do this:"
   ]
  },
  {
   "cell_type": "code",
   "execution_count": 43,
   "metadata": {},
   "outputs": [],
   "source": [
    "from math import pi, sqrt"
   ]
  },
  {
   "cell_type": "markdown",
   "metadata": {},
   "source": [
    "This only imports the constant `pi` and the method `sqrt` from the `math` library. You can then use these directly without having to type `math` or `m`."
   ]
  },
  {
   "cell_type": "code",
   "execution_count": 44,
   "metadata": {},
   "outputs": [
    {
     "data": {
      "text/plain": [
       "5.0"
      ]
     },
     "execution_count": 44,
     "metadata": {},
     "output_type": "execute_result"
    }
   ],
   "source": [
    "sqrt(25)"
   ]
  },
  {
   "cell_type": "code",
   "execution_count": 45,
   "metadata": {},
   "outputs": [
    {
     "data": {
      "text/plain": [
       "3.141592653589793"
      ]
     },
     "execution_count": 45,
     "metadata": {},
     "output_type": "execute_result"
    }
   ],
   "source": [
    "pi"
   ]
  },
  {
   "cell_type": "markdown",
   "metadata": {},
   "source": [
    "This is perfectly fine, as you are explicitly importing `pi` and `sqrt` and it's obvious where they come from. Now let's look at something we should generally avoid."
   ]
  },
  {
   "cell_type": "code",
   "execution_count": 46,
   "metadata": {},
   "outputs": [],
   "source": [
    "from math import *"
   ]
  },
  {
   "cell_type": "markdown",
   "metadata": {},
   "source": [
    "This imports *everything* from `math` into our local namespace. This has the potential to overwrite other methods or values in our local namespace, causing potential confusion and bugs. I would suggest avoiding this approach to keep things clear and readable, even if it saves a few keystrokes in the short term."
   ]
  },
  {
   "cell_type": "code",
   "execution_count": 47,
   "metadata": {},
   "outputs": [
    {
     "data": {
      "text/plain": [
       "1.0"
      ]
     },
     "execution_count": 47,
     "metadata": {},
     "output_type": "execute_result"
    }
   ],
   "source": [
    "# If I'm just reading this code, how do I know where `sin` and `pi` come from?\n",
    "sin(pi/2)"
   ]
  },
  {
   "cell_type": "markdown",
   "metadata": {},
   "source": [
    "## Zen of Python\n",
    "\n",
    "For an easter egg of sorts, you can try:\n",
    "\n",
    "```python\n",
    "import this\n",
    "```"
   ]
  },
  {
   "cell_type": "code",
   "execution_count": null,
   "metadata": {},
   "outputs": [],
   "source": []
  }
 ],
 "metadata": {
  "file_extension": ".py",
  "kernelspec": {
   "display_name": "Python 3",
   "language": "python",
   "name": "python3"
  },
  "language_info": {
   "codemirror_mode": {
    "name": "ipython",
    "version": 3
   },
   "file_extension": ".py",
   "mimetype": "text/x-python",
   "name": "python",
   "nbconvert_exporter": "python",
   "pygments_lexer": "ipython3",
   "version": "3.7.5"
  },
  "mimetype": "text/x-python",
  "name": "python",
  "npconvert_exporter": "python",
  "pygments_lexer": "ipython3",
  "version": 3
 },
 "nbformat": 4,
 "nbformat_minor": 2
}
